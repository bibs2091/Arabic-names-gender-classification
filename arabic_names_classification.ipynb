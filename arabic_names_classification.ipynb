{
 "cells": [
  {
   "cell_type": "code",
   "execution_count": 255,
   "metadata": {},
   "outputs": [],
   "source": [
    "import pandas as pd\n",
    "import numpy as np\n",
    "import matplotlib.pyplot as plt\n"
   ]
  },
  {
   "cell_type": "code",
   "execution_count": 256,
   "metadata": {},
   "outputs": [],
   "source": [
    "df = pd.read_csv('C:\\\\Users\\\\bibs2091\\\\Desktop\\\\AI\\\\arabic_names_with_gender.csv')\n"
   ]
  },
  {
   "cell_type": "code",
   "execution_count": 257,
   "metadata": {},
   "outputs": [
    {
     "data": {
      "text/html": [
       "<div>\n",
       "<style scoped>\n",
       "    .dataframe tbody tr th:only-of-type {\n",
       "        vertical-align: middle;\n",
       "    }\n",
       "\n",
       "    .dataframe tbody tr th {\n",
       "        vertical-align: top;\n",
       "    }\n",
       "\n",
       "    .dataframe thead th {\n",
       "        text-align: right;\n",
       "    }\n",
       "</style>\n",
       "<table border=\"1\" class=\"dataframe\">\n",
       "  <thead>\n",
       "    <tr style=\"text-align: right;\">\n",
       "      <th></th>\n",
       "      <th>gender</th>\n",
       "      <th>name</th>\n",
       "    </tr>\n",
       "  </thead>\n",
       "  <tbody>\n",
       "    <tr>\n",
       "      <th>6344</th>\n",
       "      <td>ذكر</td>\n",
       "      <td>دريمى</td>\n",
       "    </tr>\n",
       "    <tr>\n",
       "      <th>6345</th>\n",
       "      <td>ذكر</td>\n",
       "      <td>مغيره</td>\n",
       "    </tr>\n",
       "    <tr>\n",
       "      <th>6346</th>\n",
       "      <td>انثى</td>\n",
       "      <td>نفاذه</td>\n",
       "    </tr>\n",
       "    <tr>\n",
       "      <th>6347</th>\n",
       "      <td>ذكر</td>\n",
       "      <td>جودة</td>\n",
       "    </tr>\n",
       "    <tr>\n",
       "      <th>6348</th>\n",
       "      <td>ذكر</td>\n",
       "      <td>ابوخيشة</td>\n",
       "    </tr>\n",
       "  </tbody>\n",
       "</table>\n",
       "</div>"
      ],
      "text/plain": [
       "     gender     name\n",
       "6344    ذكر    دريمى\n",
       "6345    ذكر    مغيره\n",
       "6346   انثى    نفاذه\n",
       "6347    ذكر     جودة\n",
       "6348    ذكر  ابوخيشة"
      ]
     },
     "execution_count": 257,
     "metadata": {},
     "output_type": "execute_result"
    }
   ],
   "source": [
    "df.tail()\n"
   ]
  },
  {
   "cell_type": "code",
   "execution_count": 258,
   "metadata": {},
   "outputs": [
    {
     "data": {
      "text/plain": [
       "(6349, 2)"
      ]
     },
     "execution_count": 258,
     "metadata": {},
     "output_type": "execute_result"
    }
   ],
   "source": [
    "df.shape"
   ]
  },
  {
   "cell_type": "code",
   "execution_count": 259,
   "metadata": {},
   "outputs": [
    {
     "data": {
      "text/plain": [
       "gender    object\n",
       "name      object\n",
       "dtype: object"
      ]
     },
     "execution_count": 259,
     "metadata": {},
     "output_type": "execute_result"
    }
   ],
   "source": [
    "df.dtypes"
   ]
  },
  {
   "cell_type": "code",
   "execution_count": 260,
   "metadata": {},
   "outputs": [],
   "source": [
    "df=df.drop(df[df['name'].isnull()].index)\n",
    "#remove the null values"
   ]
  },
  {
   "cell_type": "code",
   "execution_count": 261,
   "metadata": {},
   "outputs": [
    {
     "data": {
      "text/plain": [
       "(4960, 2)"
      ]
     },
     "execution_count": 261,
     "metadata": {},
     "output_type": "execute_result"
    }
   ],
   "source": [
    "df[df.gender == 'ذكر'].shape"
   ]
  },
  {
   "cell_type": "code",
   "execution_count": 262,
   "metadata": {},
   "outputs": [
    {
     "data": {
      "text/plain": [
       "(1388, 2)"
      ]
     },
     "execution_count": 262,
     "metadata": {},
     "output_type": "execute_result"
    }
   ],
   "source": [
    "df[df.gender == 'انثى'].shape"
   ]
  },
  {
   "cell_type": "code",
   "execution_count": 263,
   "metadata": {},
   "outputs": [],
   "source": [
    "names= df\n",
    "names.gender.replace({'ذكر':1 , 'انثى':0},inplace=True)\n",
    "#replace the genders with boolean 1 and 0"
   ]
  },
  {
   "cell_type": "code",
   "execution_count": 264,
   "metadata": {},
   "outputs": [
    {
     "data": {
      "text/html": [
       "<div>\n",
       "<style scoped>\n",
       "    .dataframe tbody tr th:only-of-type {\n",
       "        vertical-align: middle;\n",
       "    }\n",
       "\n",
       "    .dataframe tbody tr th {\n",
       "        vertical-align: top;\n",
       "    }\n",
       "\n",
       "    .dataframe thead th {\n",
       "        text-align: right;\n",
       "    }\n",
       "</style>\n",
       "<table border=\"1\" class=\"dataframe\">\n",
       "  <thead>\n",
       "    <tr style=\"text-align: right;\">\n",
       "      <th></th>\n",
       "      <th>gender</th>\n",
       "      <th>name</th>\n",
       "    </tr>\n",
       "  </thead>\n",
       "  <tbody>\n",
       "    <tr>\n",
       "      <th>6344</th>\n",
       "      <td>1</td>\n",
       "      <td>دريمى</td>\n",
       "    </tr>\n",
       "    <tr>\n",
       "      <th>6345</th>\n",
       "      <td>1</td>\n",
       "      <td>مغيره</td>\n",
       "    </tr>\n",
       "    <tr>\n",
       "      <th>6346</th>\n",
       "      <td>0</td>\n",
       "      <td>نفاذه</td>\n",
       "    </tr>\n",
       "    <tr>\n",
       "      <th>6347</th>\n",
       "      <td>1</td>\n",
       "      <td>جودة</td>\n",
       "    </tr>\n",
       "    <tr>\n",
       "      <th>6348</th>\n",
       "      <td>1</td>\n",
       "      <td>ابوخيشة</td>\n",
       "    </tr>\n",
       "  </tbody>\n",
       "</table>\n",
       "</div>"
      ],
      "text/plain": [
       "      gender     name\n",
       "6344       1    دريمى\n",
       "6345       1    مغيره\n",
       "6346       0    نفاذه\n",
       "6347       1     جودة\n",
       "6348       1  ابوخيشة"
      ]
     },
     "execution_count": 264,
     "metadata": {},
     "output_type": "execute_result"
    }
   ],
   "source": [
    "names.tail()"
   ]
  },
  {
   "cell_type": "code",
   "execution_count": 345,
   "metadata": {},
   "outputs": [],
   "source": [
    "#to transfer the chars to numbers, check it to get what i did ( per example ة and ت are separted cuz it helps in arabic gender classification)\n",
    "# Ijust think that most of male names ends with ت, but ة is for girls  ( this is just how I think, I should visualize that , I'll do that in later commits)\n",
    "letter_dict={'ا':1,'ب':2,'ت':3,'ث':4,'ج':5,'ح':6,'خ':7,'د':8,'ذ':9,'ر':10,'ز':11,'س':12,'ش':13,'ص':14,'ض':15,'ط':16,'ظ':17,'ع':18,'غ':19,'ف':20,'ق':21,'ك':22,'ل':23,'م':24,'ن':25,'ه':29,'و':27,'ؤ':27,'ي':28,'ء':30,'ئ':28,'-':0,'أ':1,'ة':29,'،':0,'.':0,'ى':28}"
   ]
  },
  {
   "cell_type": "code",
   "execution_count": 356,
   "metadata": {},
   "outputs": [],
   "source": [
    "names['name']= names['name'].apply(lambda x: ''.join(filter(str.isalnum, x))) #removes spaces, special characters ... \n",
    "names['name']= names['name'].apply(lambda x: x.replace(\"ـ\", \"\")); #to resolve an issue with the dataset, just jump, it isn't that important\n",
    "names['last_letter']=  names.name.str[-1]\n",
    "names['second_last_letter']=  names.name.str[-2]\n",
    "names['third_last_letter']=  names['name'].apply(lambda x: x[-3] if len(x) > 2 else \"-\"); #if the name shorter than 2 letters is will be replaced with - eventually with 0 \n",
    "\n"
   ]
  },
  {
   "cell_type": "code",
   "execution_count": 357,
   "metadata": {},
   "outputs": [],
   "source": [
    "#remove the null rows\n",
    "names=names.drop(names[names['last_letter'].isnull()].index)\n",
    "names=names.drop(names[names['second_last_letter'].isnull()].index)\n",
    "\n",
    "#convert the letters to numbers \n",
    "names['last_letter']= names['last_letter'].apply(lambda x:letter_dict[x] )\n",
    "names['second_last_letter']= names['second_last_letter'].apply(lambda x:letter_dict[x] )\n",
    "names['third_last_letter']= names['third_last_letter'].apply(lambda x:letter_dict[x] )"
   ]
  },
  {
   "cell_type": "code",
   "execution_count": 358,
   "metadata": {},
   "outputs": [],
   "source": [
    "names = names.drop_duplicates('name') #keep only the unique names "
   ]
  },
  {
   "cell_type": "code",
   "execution_count": 359,
   "metadata": {},
   "outputs": [],
   "source": [
    "#I already know that arabic names with ابو and عبد are mostly for males, so I think this will help me identifying males \n",
    "names['abo']=   names['name'].apply(lambda x: 1 if 'ابو' in x else 0) \n",
    "names['abd']=   names['name'].apply(lambda x: 1 if 'عبد' in x else 0)\n"
   ]
  },
  {
   "cell_type": "code",
   "execution_count": 360,
   "metadata": {},
   "outputs": [
    {
     "data": {
      "text/plain": [
       "(6152, 7)"
      ]
     },
     "execution_count": 360,
     "metadata": {},
     "output_type": "execute_result"
    }
   ],
   "source": [
    "names.shape\n"
   ]
  },
  {
   "cell_type": "code",
   "execution_count": 361,
   "metadata": {},
   "outputs": [],
   "source": [
    "x=names[['last_letter','second_last_letter','third_last_letter','abo','abd']] #the features\n",
    "y=names[['gender']] \n"
   ]
  },
  {
   "cell_type": "code",
   "execution_count": 362,
   "metadata": {},
   "outputs": [],
   "source": [
    "from sklearn.model_selection import train_test_split\n",
    "X_train, X_test, y_train, y_test = train_test_split(x, y, test_size=0.25, random_state=40)\n",
    "#split the data set into training and testing set"
   ]
  },
  {
   "cell_type": "code",
   "execution_count": 366,
   "metadata": {},
   "outputs": [
    {
     "name": "stderr",
     "output_type": "stream",
     "text": [
      "C:\\Users\\bibs2091\\Anaconda3\\lib\\site-packages\\sklearn\\ensemble\\forest.py:246: FutureWarning: The default value of n_estimators will change from 10 in version 0.20 to 100 in 0.22.\n",
      "  \"10 in version 0.20 to 100 in 0.22.\", FutureWarning)\n",
      "C:\\Users\\bibs2091\\Anaconda3\\lib\\site-packages\\ipykernel_launcher.py:7: DataConversionWarning: A column-vector y was passed when a 1d array was expected. Please change the shape of y to (n_samples,), for example using ravel().\n",
      "  import sys\n"
     ]
    },
    {
     "data": {
      "image/png": "[encoded data removed]",
      "text/plain": [
       "<Figure size 432x288 with 2 Axes>"
      ]
     },
     "metadata": {},
     "output_type": "display_data"
    },
    {
     "name": "stdout",
     "output_type": "stream",
     "text": [
      "the accuracy score for Random Forest Classifier is : 0.8478543563068921\n",
      "the f1 score for Random Forest Classifier is : 0.9051863857374391\n",
      "the precision score is : 0.8893312101910829\n",
      "the recall score is : 0.9216171617161716\n"
     ]
    }
   ],
   "source": [
    "from sklearn.ensemble import RandomForestClassifier\n",
    "import seaborn as sns       \n",
    "from sklearn.metrics import accuracy_score, make_scorer,f1_score, precision_score, recall_score, confusion_matrix\n",
    "\n",
    "#I'll use random forest ( I already tried some algorithms and this is the best)\n",
    "model = RandomForestClassifier()\n",
    "model.fit(X_train,y_train)\n",
    "predictions = model.predict(X_test)\n",
    "sns.heatmap(confusion_matrix(y_test, predictions), annot=True, cmap=\"YlGn\")\n",
    "plt.title(' RandomForestClassifier ')\n",
    "plt.ylabel('True label')\n",
    "plt.xlabel('Predicted label')\n",
    "plt.show()\n",
    "print(\"the accuracy score for Random Forest Classifier is :\",(accuracy_score(y_test, predictions)))\n",
    "print(\"the f1 score for Random Forest Classifier is :\",(f1_score(y_test, predictions)))\n",
    "print(\"the precision score is :\",(precision_score(y_test, predictions)))\n",
    "print(\"the recall score is :\",(recall_score(y_test, predictions))) \n"
   ]
  },
  {
   "cell_type": "code",
   "execution_count": 367,
   "metadata": {},
   "outputs": [],
   "source": [
    "\n",
    "#predict the gender of an arabic name\n",
    "def predict(model,name):\n",
    "    letter_dict={'ا':1,'ب':2,'ت':3,'ث':4,'ج':5,'ح':6,'خ':7,'د':8,'ذ':9,'ر':10,'ز':11,'س':12,'ش':13,'ص':14,'ض':15,'ط':16,'ظ':17,'ع':18,'غ':19,'ف':20,'ق':21,'ك':22,'ل':23,'م':24,'ن':25,'ه':29,'و':27,'ؤ':27,'ي':28,'ء':30,'ئ':28,'-':0,'أ':1,'ة':29,'،':0,'\\u200f':0,'.':0,'\\t':0,'ى':28}\n",
    "    if (len(name)>2):\n",
    "        third_letter=name[-3]\n",
    "    else:\n",
    "        third_letter=\"-\"\n",
    "    if (model.predict([[letter_dict[name[-1]],letter_dict[name[-2]],letter_dict[third_letter],0,0]])):\n",
    "        return \"Male\"\n",
    "    else:\n",
    "        return \"Female\"    "
   ]
  },
  {
   "cell_type": "code",
   "execution_count": 382,
   "metadata": {},
   "outputs": [
    {
     "name": "stdout",
     "output_type": "stream",
     "text": [
      "Male\n",
      "Female\n",
      "Male\n",
      "Female\n",
      "Male\n",
      "Male\n",
      "Female\n",
      "Male\n",
      "Male\n",
      "Female\n",
      "Male\n",
      "Male\n",
      "Female\n",
      "Female\n",
      "Female\n",
      "Female\n",
      "Male\n",
      "Male\n",
      "Female\n"
     ]
    }
   ],
   "source": [
    "#let's try out some names!!\n",
    "\n",
    "print(predict(model,\"محمد\"))\n",
    "print(predict(model,\"كوثر\"))\n",
    "print(predict(model,\"لؤي\"))\n",
    "print(predict(model,\"اسراء\"))\n",
    "print(predict(model,\"اخلاص\"))\n",
    "print(predict(model,\"وليد\"))\n",
    "print(predict(model,\"تولين\"))\n",
    "print(predict(model,\"امال\"))\n",
    "print(predict(model,\"الاخضر\"))\n",
    "print(predict(model,\"حمادة\"))\n",
    "print(predict(model,\"فادي\"))\n",
    "print(predict(model,\"ثابت\"))\n",
    "print(predict(model,\"خلود\"))\n",
    "print(predict(model,\"ياسمين\"))\n",
    "print(predict(model,\"رنيم\"))\n",
    "print(predict(model,\"بتول\"))\n",
    "print(predict(model,\"قدور\"))\n",
    "print(predict(model,\"حمودة\"))"
   ]
  },
  {
   "cell_type": "code",
   "execution_count": null,
   "metadata": {},
   "outputs": [],
   "source": []
  }
 ],
 "metadata": {
  "kernelspec": {
   "display_name": "Python 3",
   "language": "python",
   "name": "python3"
  },
  "language_info": {
   "codemirror_mode": {
    "name": "ipython",
    "version": 3
   },
   "file_extension": ".py",
   "mimetype": "text/x-python",
   "name": "python",
   "nbconvert_exporter": "python",
   "pygments_lexer": "ipython3",
   "version": "3.7.1"
  }
 },
 "nbformat": 4,
 "nbformat_minor": 2
}
